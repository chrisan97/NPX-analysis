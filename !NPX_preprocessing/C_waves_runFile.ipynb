{
 "cells": [
  {
   "cell_type": "code",
   "execution_count": 5,
   "metadata": {},
   "outputs": [],
   "source": [
    "import pandas as pd\n",
    "import os\n",
    "import numpy as np\n",
    "import json\n",
    "import sys\n",
    "import time\n",
    "from pathlib import Path\n",
    "import subprocess"
   ]
  },
  {
   "cell_type": "code",
   "execution_count": 2,
   "metadata": {},
   "outputs": [],
   "source": [
    "def getSortResults(output_dir, clu_version):\n",
    "    # load results from phy for run logging and creation of the table for C_Waves\n",
    "\n",
    "    cluLabel = np.load(os.path.join(output_dir, 'spike_clusters.npy'))\n",
    "    spkTemplate = np.load(os.path.join(output_dir,'spike_templates.npy'))\n",
    "    cluLabel = np.squeeze(cluLabel)\n",
    "    spkTemplate = np.squeeze(spkTemplate)\n",
    "\n",
    "    unqLabel, labelCounts = np.unique(cluLabel, return_counts = True)\n",
    "    nTot = cluLabel.shape[0]\n",
    "    nLabel = unqLabel.shape[0]\n",
    "    maxLabel = np.max(unqLabel)\n",
    "\n",
    "    templates = np.load(os.path.join(output_dir, 'templates.npy'))\n",
    "    channel_map = np.load(os.path.join(output_dir, 'channel_map.npy'))\n",
    "    channel_map = np.squeeze(channel_map)\n",
    "    \n",
    "    # read in inverse of whitening matrix\n",
    "    w_inv = np.load((os.path.join(output_dir, 'whitening_mat_inv.npy')))\n",
    "    nTemplate = templates.shape[0]\n",
    "    \n",
    "    # initialize peak_channels array\n",
    "    peak_channels = np.zeros([nLabel,],'uint32')\n",
    "    \n",
    "   \n",
    "    # After manual splits or merges, some labels will have spikes found with\n",
    "    # different templats.\n",
    "    # for each label in the list unqLabel, get the most common template\n",
    "    # For that template (nt x nchan), multiply the the transpose (nchan x nt) by inverse of \n",
    "    # the whitening matrix (nchan x nchan); get max and min along tthe time axis (1)\n",
    "    # to find the peak channel\n",
    "    for i in np.arange(0,nLabel):\n",
    "        curr_spkTemplate = spkTemplate[np.where(cluLabel==unqLabel[i])]\n",
    "        template_mode = np.argmax(np.bincount(curr_spkTemplate))\n",
    "        currT = templates[template_mode,:].T\n",
    "        curr_unwh = np.matmul(w_inv, currT)\n",
    "        currdiff = np.max(curr_unwh,1) - np.min(curr_unwh,1)\n",
    "        peak_channels[i] = channel_map[np.argmax(currdiff)]\n",
    "\n",
    "    clus_Table = np.zeros((maxLabel+1, 2), dtype='uint32')\n",
    "    clus_Table[unqLabel, 0] = labelCounts\n",
    "    clus_Table[unqLabel, 1] = peak_channels\n",
    "\n",
    "    if clu_version == 0:\n",
    "        np.save(os.path.join(output_dir, 'clus_Table.npy'), clus_Table)\n",
    "    else:\n",
    "        clu_Name = 'clus_Table_' + repr(clu_version) + '.npy'\n",
    "        np.save(os.path.join(output_dir, clu_Name), clus_Table)\n",
    " \n",
    "    return nTemplate, nTot"
   ]
  },
  {
   "cell_type": "code",
   "execution_count": 3,
   "metadata": {},
   "outputs": [
    {
     "data": {
      "text/plain": [
       "(151, 745940)"
      ]
     },
     "execution_count": 3,
     "metadata": {},
     "output_type": "execute_result"
    }
   ],
   "source": [
    "output_dir = r'D:\\NPX_data\\DATA\\05242024-NTQP4_g3\\05242024-NTQP4_g3\\kilosort_output'\n",
    "\n",
    "getSortResults(output_dir, 0)"
   ]
  },
  {
   "cell_type": "code",
   "execution_count": null,
   "metadata": {},
   "outputs": [],
   "source": [
    "temp = np.load(clus_lbl_path)\n",
    "temp = temp.astype('uint32')\n",
    "\n",
    "\n",
    "np.save(os.path.join(spikeSort_path, 'spike_clusters_converted'), temp)"
   ]
  },
  {
   "cell_type": "code",
   "execution_count": 6,
   "metadata": {},
   "outputs": [],
   "source": [
    "tools_path = r'D:\\NPX_data' # path to the folder holding all the \"tools\": CatGT, TPrime, etc\n",
    "input_path = r'D:\\NPX_data\\DATA\\05242024-NTQP4_g3' # path where the recording file is: this needs to be edited\n",
    "output_path = r'D:\\NPX_data\\CatGT_OUT' # path to spit out the output of CatGT\n",
    "\n",
    "base_path = Path('D:/NPX_data/DATA/05242024-NTQP4_g3') \n",
    "run_name = '05242024-NTQP4_g3'\n",
    "spikeSort_path = base_path / run_name / 'kilosort_output'"
   ]
  },
  {
   "cell_type": "code",
   "execution_count": 23,
   "metadata": {},
   "outputs": [],
   "source": [
    "bin_path = os.path.join(input_path,run_name,'05242024-NTQP4_g3_tcat.imec0.ap.bin')\n",
    "clus_table_path = os.path.join(spikeSort_path,'clus_Table.npy')\n",
    "clus_time_path = os.path.join(spikeSort_path,'spike_times.npy')\n",
    "clus_lbl_path = os.path.join(spikeSort_path,'spike_clusters_converted.npy')\n",
    "dest_path = os.path.join(spikeSort_path,'C_waves')\n"
   ]
  },
  {
   "cell_type": "code",
   "execution_count": 25,
   "metadata": {},
   "outputs": [
    {
     "name": "stdout",
     "output_type": "stream",
     "text": [
      "runit.bat     -spikeglx_bin=D:\\NPX_data\\DATA\\05242024-NTQP4_g3\\05242024-NTQP4_g3\\05242024-NTQP4_g3_tcat.imec0.ap.bin     -clus_table_npy=D:\\NPX_data\\DATA\\05242024-NTQP4_g3\\05242024-NTQP4_g3\\kilosort_output\\clus_Table.npy     -clus_time_npy=D:\\NPX_data\\DATA\\05242024-NTQP4_g3\\05242024-NTQP4_g3\\kilosort_output\\spike_times.npy     -clus_lbl_npy=D:\\NPX_data\\DATA\\05242024-NTQP4_g3\\05242024-NTQP4_g3\\kilosort_output\\spike_clusters_converted.npy     -dest=D:\\NPX_data\\DATA\\05242024-NTQP4_g3\\05242024-NTQP4_g3\\kilosort_output\\C_waves     -samples_per_spike=82     -pre_samples=41     -num_spikes=500     -snr_radius=8     -snr_radius_um=140\n",
      "0\n",
      "05242024-NTQP4_g3 done\n"
     ]
    }
   ],
   "source": [
    "# This runs CWaves\n",
    "command = f'runit.bat \\\n",
    "    -spikeglx_bin={bin_path} \\\n",
    "    -clus_table_npy={clus_table_path} \\\n",
    "    -clus_time_npy={clus_time_path} \\\n",
    "    -clus_lbl_npy={clus_lbl_path} \\\n",
    "    -dest={dest_path} \\\n",
    "    -samples_per_spike=82 \\\n",
    "    -pre_samples=41 \\\n",
    "    -num_spikes=500 \\\n",
    "    -snr_radius=8 \\\n",
    "    -snr_radius_um=140' \n",
    "print(command)\n",
    "print(os.system(f\"cd /d {os.path.join(tools_path, 'C_Waves-win')} & {command}\"))\n",
    "print(f'{run_name} done')\n"
   ]
  },
  {
   "cell_type": "code",
   "execution_count": null,
   "metadata": {},
   "outputs": [],
   "source": []
  }
 ],
 "metadata": {
  "kernelspec": {
   "display_name": "Python 3",
   "language": "python",
   "name": "python3"
  },
  "language_info": {
   "codemirror_mode": {
    "name": "ipython",
    "version": 3
   },
   "file_extension": ".py",
   "mimetype": "text/x-python",
   "name": "python",
   "nbconvert_exporter": "python",
   "pygments_lexer": "ipython3",
   "version": "3.12.3"
  }
 },
 "nbformat": 4,
 "nbformat_minor": 2
}
