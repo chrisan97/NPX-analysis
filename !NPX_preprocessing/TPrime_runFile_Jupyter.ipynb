{
 "cells": [
  {
   "cell_type": "code",
   "execution_count": 2,
   "metadata": {},
   "outputs": [],
   "source": [
    "# Import important packages and functions\n",
    "import os\n",
    "import subprocess\n",
    "from pathlib import Path\n",
    "import numpy as np"
   ]
  },
  {
   "cell_type": "code",
   "execution_count": 3,
   "metadata": {},
   "outputs": [],
   "source": [
    "tools_path = r'D:\\NPX_data' # path to the folder holding all the \"tools\": CatGT, TPrime, etc\n",
    "input_path = r'D:\\NPX_data\\DATA\\08272024-NTBY4_g0' # path where the recording file is: this needs to be edited\n",
    "output_path = r'D:\\NPX_data\\CatGT_OUT' # path to spit out the output of CatGT\n",
    "\n",
    "base_path = Path('D:/NPX_data/DATA/08272024-NTBY4_g0') \n",
    "run_name = '08272024-NTBY4_g0'\n",
    "\n",
    "# First load the spike_times from KS output\n",
    "\n",
    "spikeSort_path = base_path / run_name / 'kilosort_output'"
   ]
  },
  {
   "cell_type": "code",
   "execution_count": 4,
   "metadata": {},
   "outputs": [
    {
     "data": {
      "text/plain": [
       "WindowsPath('D:/NPX_data/DATA/08272024-NTBY4_g0/08272024-NTBY4_g0/kilosort_output')"
      ]
     },
     "execution_count": 4,
     "metadata": {},
     "output_type": "execute_result"
    }
   ],
   "source": [
    "spikeSort_path"
   ]
  },
  {
   "cell_type": "code",
   "execution_count": 5,
   "metadata": {},
   "outputs": [
    {
     "data": {
      "text/plain": [
       "array([[      469],\n",
       "       [      953],\n",
       "       [     1773],\n",
       "       ...,\n",
       "       [136157127],\n",
       "       [136157168],\n",
       "       [136157172]], dtype=uint64)"
      ]
     },
     "execution_count": 5,
     "metadata": {},
     "output_type": "execute_result"
    }
   ],
   "source": [
    "# Here we are loading in the .npy file from kilosort and then converting this into Hz instead from sample rate\n",
    "spikeTimes_path = spikeSort_path / 'spike_times.npy'\n",
    "spikeTimes = np.load(spikeTimes_path)\n",
    "spikeTimes"
   ]
  },
  {
   "cell_type": "code",
   "execution_count": 6,
   "metadata": {},
   "outputs": [],
   "source": [
    "import numpy as np\n",
    "import matplotlib.pyplot as plt\n",
    "from pathlib import Path\n",
    "from tkinter import Tk\n",
    "from tkinter import filedialog\n",
    "\n",
    "\n",
    "# Parse ini file returning a dictionary whose keys are the metadata\n",
    "# left-hand-side-tags, and values are string versions of the right-hand-side\n",
    "# metadata values. We remove any leading '~' characters in the tags to match\n",
    "# the MATLAB version of readMeta.\n",
    "#\n",
    "# The string values are converted to numbers using the \"int\" and \"float\"\n",
    "# functions. Note that python 3 has no size limit for integers.\n",
    "#\n",
    "def readMeta(binFullPath):\n",
    "    metaName = binFullPath.stem + \".meta\"\n",
    "    metaPath = Path(binFullPath.parent / metaName)\n",
    "    metaDict = {}\n",
    "    if metaPath.exists():\n",
    "        # print(\"meta file present\")\n",
    "        with metaPath.open() as f:\n",
    "            mdatList = f.read().splitlines()\n",
    "            # convert the list entries into key value pairs\n",
    "            for m in mdatList:\n",
    "                csList = m.split(sep='=')\n",
    "                if csList[0][0] == '~':\n",
    "                    currKey = csList[0][1:len(csList[0])]\n",
    "                else:\n",
    "                    currKey = csList[0]\n",
    "                metaDict.update({currKey: csList[1]})\n",
    "    else:\n",
    "        print(\"no meta file\")\n",
    "    return(metaDict)\n",
    "\n",
    "# Return sample rate as python float.\n",
    "# On most systems, this will be implemented as C++ double.\n",
    "# Use python command sys.float_info to get properties of float on your system.\n",
    "#\n",
    "def SampRate(meta):\n",
    "    if meta['typeThis'] == 'imec':\n",
    "        srate = float(meta['imSampRate'])\n",
    "    else:\n",
    "        srate = float(meta['niSampRate'])\n",
    "    return(srate)"
   ]
  },
  {
   "cell_type": "code",
   "execution_count": 7,
   "metadata": {},
   "outputs": [],
   "source": [
    "# Get file from user\n",
    "root = Tk()         # create the Tkinter widget\n",
    "root.withdraw()     # hide the Tkinter root window\n",
    "\n",
    "# Windows specific; forces the window to appear in front\n",
    "root.attributes(\"-topmost\", True)\n",
    "\n",
    "binFullPath = Path(filedialog.askopenfilename(title=\"Select binary file\"))\n",
    "\n",
    "root.destroy()"
   ]
  },
  {
   "cell_type": "code",
   "execution_count": 8,
   "metadata": {},
   "outputs": [
    {
     "data": {
      "text/plain": [
       "29999.39932004327"
      ]
     },
     "execution_count": 8,
     "metadata": {},
     "output_type": "execute_result"
    }
   ],
   "source": [
    "# This spits out the sample rate from the meta file\n",
    "meta = readMeta(binFullPath)\n",
    "sRate = SampRate(meta)\n",
    "sRate"
   ]
  },
  {
   "cell_type": "code",
   "execution_count": 9,
   "metadata": {},
   "outputs": [
    {
     "data": {
      "text/plain": [
       "array([[1.56336464e-02],\n",
       "       [3.17673027e-02],\n",
       "       [5.91011834e-02],\n",
       "       ...,\n",
       "       [4.53866178e+03],\n",
       "       [4.53866314e+03],\n",
       "       [4.53866328e+03]])"
      ]
     },
     "execution_count": 9,
     "metadata": {},
     "output_type": "execute_result"
    }
   ],
   "source": [
    "# This converts the sample rate times in spike_times.npy to the spike times in seconds\n",
    "spikeTimes = np.load(spikeSort_path / 'spike_times.npy')\n",
    "spikeTimes_adjusted = spikeTimes/sRate # this converts it into seconds\n",
    "spikeTimes_adjusted"
   ]
  },
  {
   "cell_type": "code",
   "execution_count": 10,
   "metadata": {},
   "outputs": [
    {
     "name": "stdout",
     "output_type": "stream",
     "text": [
      "converted npy spiketimes to .txt file\n"
     ]
    }
   ],
   "source": [
    "# Now we save the spike times in seconds to .txt\n",
    "spike_times_path = os.path.join(spikeSort_path,'spike_times.txt')\n",
    "with open(spike_times_path, 'w') as f:\n",
    "    for spiketime in spikeTimes_adjusted:\n",
    "        f.write(f'{float(spiketime)}\\n')\n",
    "print('converted npy spiketimes to .txt file')"
   ]
  },
  {
   "cell_type": "code",
   "execution_count": 11,
   "metadata": {},
   "outputs": [],
   "source": [
    "# You need to change the names here to appropriate files that you want to access and treat \n",
    "tostreamName = os.path.join(input_path,run_name,(run_name + '_tcat.imec0.ap.xd_384_6_500.txt'))\n",
    "fromstreamName = os.path.join(input_path,run_name,(run_name + '_tcat.nidq.xd_3_0_500.txt'))\n",
    "events_1 = os.path.join(input_path,run_name,(run_name + '_tcat.nidq.xia_0_1500.txt'))\n",
    "events_1_out = os.path.join(input_path,run_name,(run_name + '_tcat.nidq.xia_0_1500_TPrime.txt'))\n",
    "events_2 = os.path.join(input_path,run_name,(run_name + '_tcat.nidq.xa_0_2000.txt'))\n",
    "events_2_out = os.path.join(input_path,run_name,(run_name + '_tcat.nidq.xa_0_2000.txt'))\n",
    "events_3 = os.path.join(input_path,run_name,(run_name + '_tcat.nidq.xd_3_1_0.txt'))\n",
    "events_3_out = os.path.join(input_path,run_name,(run_name + '_tcat.nidq.xd_3_1_0_TPrime.txt'))\n",
    "events_4 = os.path.join(input_path,run_name,(run_name + '_tcat.nidq.xd_3_2_0.txt'))\n",
    "events_4_out = os.path.join(input_path,run_name,(run_name + '_tcat.nidq.xd_3_2_0_TPrime.txt'))\n",
    "events_5 = os.path.join(input_path,run_name,(run_name + '_tcat.nidq.xd_3_3_0.txt'))\n",
    "events_5_out = os.path.join(input_path,run_name,(run_name + '_tcat.nidq.xd_3_3_0_TPrime.txt'))\n",
    "events_6 = os.path.join(input_path,run_name,(run_name + '_tcat.nidq.xd_3_4_0.txt'))\n",
    "events_6_out = os.path.join(input_path,run_name,(run_name + '_tcat.nidq.xd_3_4_0_TPrime.txt'))\n",
    "events_7 = os.path.join(input_path,run_name,(run_name + '_tcat.nidq.xd_3_5_0.txt'))\n",
    "events_7_out = os.path.join(input_path,run_name,(run_name + '_tcat.nidq.xd_3_5_0_TPrime.txt'))\n",
    "events_8 = os.path.join(input_path,run_name,(run_name + '_tcat.nidq.xd_3_6_0.txt'))\n",
    "events_8_out = os.path.join(input_path,run_name,(run_name + '_tcat.nidq.xd_3_6_0_TPrime.txt'))\n",
    "events_10 = os.path.join(input_path,run_name,(run_name + '_tcat.nidq.xid_3_7_0.txt'))\n",
    "events_10_out = os.path.join(input_path,run_name,(run_name + '_tcat.nidq.xid_3_7_0_TPrime.txt'))\n",
    "events_9 = os.path.join(input_path,run_name,(run_name + '_tcat.nidq.xd_3_7_0.txt'))\n",
    "events_9_out = os.path.join(input_path,run_name,(run_name + '_tcat.nidq.xd_3_7_0_TPrime.txt'))\n",
    "                            "
   ]
  },
  {
   "cell_type": "code",
   "execution_count": 12,
   "metadata": {},
   "outputs": [
    {
     "data": {
      "text/plain": [
       "'D:\\\\NPX_data\\\\DATA\\\\08272024-NTBY4_g0\\\\08272024-NTBY4_g0\\\\08272024-NTBY4_g0_tcat.imec0.ap.xd_384_6_500.txt'"
      ]
     },
     "execution_count": 12,
     "metadata": {},
     "output_type": "execute_result"
    }
   ],
   "source": [
    "tostreamName"
   ]
  },
  {
   "cell_type": "code",
   "execution_count": 13,
   "metadata": {},
   "outputs": [
    {
     "name": "stdout",
     "output_type": "stream",
     "text": [
      "runit.bat -syncperiod=1.0     -tostream=D:\\NPX_data\\DATA\\08272024-NTBY4_g0\\08272024-NTBY4_g0\\08272024-NTBY4_g0_tcat.imec0.ap.xd_384_6_500.txt     -fromstream=1,D:\\NPX_data\\DATA\\08272024-NTBY4_g0\\08272024-NTBY4_g0\\08272024-NTBY4_g0_tcat.nidq.xd_3_0_500.txt     -events=1,D:\\NPX_data\\DATA\\08272024-NTBY4_g0\\08272024-NTBY4_g0\\08272024-NTBY4_g0_tcat.nidq.xia_0_1500.txt,D:\\NPX_data\\DATA\\08272024-NTBY4_g0\\08272024-NTBY4_g0\\08272024-NTBY4_g0_tcat.nidq.xia_0_1500_TPrime.txt     -events=1,D:\\NPX_data\\DATA\\08272024-NTBY4_g0\\08272024-NTBY4_g0\\08272024-NTBY4_g0_tcat.nidq.xa_0_2000.txt,D:\\NPX_data\\DATA\\08272024-NTBY4_g0\\08272024-NTBY4_g0\\08272024-NTBY4_g0_tcat.nidq.xa_0_2000.txt     -events=1,D:\\NPX_data\\DATA\\08272024-NTBY4_g0\\08272024-NTBY4_g0\\08272024-NTBY4_g0_tcat.nidq.xd_3_1_0.txt,D:\\NPX_data\\DATA\\08272024-NTBY4_g0\\08272024-NTBY4_g0\\08272024-NTBY4_g0_tcat.nidq.xd_3_1_0_TPrime.txt     -events=1,D:\\NPX_data\\DATA\\08272024-NTBY4_g0\\08272024-NTBY4_g0\\08272024-NTBY4_g0_tcat.nidq.xd_3_2_0.txt,D:\\NPX_data\\DATA\\08272024-NTBY4_g0\\08272024-NTBY4_g0\\08272024-NTBY4_g0_tcat.nidq.xd_3_2_0_TPrime.txt     -events=1,D:\\NPX_data\\DATA\\08272024-NTBY4_g0\\08272024-NTBY4_g0\\08272024-NTBY4_g0_tcat.nidq.xd_3_3_0.txt,D:\\NPX_data\\DATA\\08272024-NTBY4_g0\\08272024-NTBY4_g0\\08272024-NTBY4_g0_tcat.nidq.xd_3_3_0_TPrime.txt     -events=1,D:\\NPX_data\\DATA\\08272024-NTBY4_g0\\08272024-NTBY4_g0\\08272024-NTBY4_g0_tcat.nidq.xd_3_4_0.txt,D:\\NPX_data\\DATA\\08272024-NTBY4_g0\\08272024-NTBY4_g0\\08272024-NTBY4_g0_tcat.nidq.xd_3_4_0_TPrime.txt     -events=1,D:\\NPX_data\\DATA\\08272024-NTBY4_g0\\08272024-NTBY4_g0\\08272024-NTBY4_g0_tcat.nidq.xd_3_5_0.txt,D:\\NPX_data\\DATA\\08272024-NTBY4_g0\\08272024-NTBY4_g0\\08272024-NTBY4_g0_tcat.nidq.xd_3_5_0_TPrime.txt     -events=1,D:\\NPX_data\\DATA\\08272024-NTBY4_g0\\08272024-NTBY4_g0\\08272024-NTBY4_g0_tcat.nidq.xd_3_6_0.txt,D:\\NPX_data\\DATA\\08272024-NTBY4_g0\\08272024-NTBY4_g0\\08272024-NTBY4_g0_tcat.nidq.xd_3_6_0_TPrime.txt     -events=1,D:\\NPX_data\\DATA\\08272024-NTBY4_g0\\08272024-NTBY4_g0\\08272024-NTBY4_g0_tcat.nidq.xd_3_7_0.txt,D:\\NPX_data\\DATA\\08272024-NTBY4_g0\\08272024-NTBY4_g0\\08272024-NTBY4_g0_tcat.nidq.xd_3_7_0_TPrime.txt     -events=1,D:\\NPX_data\\DATA\\08272024-NTBY4_g0\\08272024-NTBY4_g0\\08272024-NTBY4_g0_tcat.nidq.xid_3_7_0.txt,D:\\NPX_data\\DATA\\08272024-NTBY4_g0\\08272024-NTBY4_g0\\08272024-NTBY4_g0_tcat.nidq.xid_3_7_0_TPrime.txt\n",
      "0\n",
      "08272024-NTBY4_g0 done\n"
     ]
    }
   ],
   "source": [
    "# This runs TPrime\n",
    "command = f'runit.bat -syncperiod=1.0 \\\n",
    "    -tostream={tostreamName} \\\n",
    "    -fromstream=1,{fromstreamName} \\\n",
    "    -events=1,{events_1},{events_1_out} \\\n",
    "    -events=1,{events_2},{events_2_out} \\\n",
    "    -events=1,{events_3},{events_3_out} \\\n",
    "    -events=1,{events_4},{events_4_out} \\\n",
    "    -events=1,{events_5},{events_5_out} \\\n",
    "    -events=1,{events_6},{events_6_out} \\\n",
    "    -events=1,{events_7},{events_7_out} \\\n",
    "    -events=1,{events_8},{events_8_out} \\\n",
    "    -events=1,{events_9},{events_9_out} \\\n",
    "    -events=1,{events_10},{events_10_out}'\n",
    "\n",
    "print(command)\n",
    "print(os.system(f\"cd /d {os.path.join(tools_path, 'TPrime-win')} & {command}\"))\n",
    "print(f'{run_name} done')\n"
   ]
  },
  {
   "cell_type": "code",
   "execution_count": 14,
   "metadata": {},
   "outputs": [
    {
     "data": {
      "text/plain": [
       "'D:\\\\NPX_data\\\\DATA\\\\08272024-NTBY4_g0\\\\08272024-NTBY4_g0\\\\kilosort_output\\\\clus_Table.npy'"
      ]
     },
     "execution_count": 14,
     "metadata": {},
     "output_type": "execute_result"
    }
   ],
   "source": [
    "# Cwaves variables\n",
    "binName = os.path.join(input_path,run_name,(run_name + '_tcat.imec0.ap.bin'))\n",
    "clusTableName = os.path.join(spikeSort_path,'clus_Table.npy')\n",
    "clusTimeName = os.path.join(spikeSort_path,'spike_times.npy')\n",
    "clusLblName = os.path.join(spikeSort_path,'spike_clusters.npy')\n",
    "destinationCwaves = os.path.join(spikeSort_path,'C_waves')\n",
    "\n",
    "clusTableName"
   ]
  },
  {
   "cell_type": "code",
   "execution_count": 15,
   "metadata": {},
   "outputs": [],
   "source": [
    "spike_clusters = np.load(clusLblName)\n",
    "spike_clusters\n",
    "\n",
    "spike_clusters = np.uint32(spike_clusters)\n",
    "spike_clusters\n",
    "\n",
    "clusLblName_new = os.path.join(spikeSort_path,'spike_clusters_NEW.npy')\n",
    "np.save(clusLblName_new,spike_clusters)"
   ]
  },
  {
   "cell_type": "code",
   "execution_count": 18,
   "metadata": {},
   "outputs": [
    {
     "data": {
      "text/plain": [
       "(1698, 1796402)"
      ]
     },
     "execution_count": 18,
     "metadata": {},
     "output_type": "execute_result"
    }
   ],
   "source": [
    "getSortResults(spikeSort_path,0)\n"
   ]
  },
  {
   "cell_type": "code",
   "execution_count": 17,
   "metadata": {},
   "outputs": [],
   "source": [
    "def getSortResults(output_dir, clu_version):\n",
    "    # load results from phy for run logging and creation of the table for C_Waves\n",
    "\n",
    "    cluLabel = np.load(os.path.join(output_dir, 'spike_clusters.npy'))\n",
    "    spkTemplate = np.load(os.path.join(output_dir,'spike_templates.npy'))\n",
    "    cluLabel = np.squeeze(cluLabel)\n",
    "    spkTemplate = np.squeeze(spkTemplate)\n",
    "\n",
    "    unqLabel, labelCounts = np.unique(cluLabel, return_counts = True)\n",
    "    nTot = cluLabel.shape[0]\n",
    "    nLabel = unqLabel.shape[0]\n",
    "    maxLabel = np.max(unqLabel)\n",
    "\n",
    "    templates = np.load(os.path.join(output_dir, 'templates.npy'))\n",
    "    channel_map = np.load(os.path.join(output_dir, 'channel_map.npy'))\n",
    "    channel_map = np.squeeze(channel_map)\n",
    "    \n",
    "    # read in inverse of whitening matrix\n",
    "    w_inv = np.load((os.path.join(output_dir, 'whitening_mat_inv.npy')))\n",
    "    nTemplate = templates.shape[0]\n",
    "    \n",
    "    # initialize peak_channels array\n",
    "    peak_channels = np.zeros([nLabel,],'uint32')\n",
    "    \n",
    "   \n",
    "    # After manual splits or merges, some labels will have spikes found with\n",
    "    # different templats.\n",
    "    # for each label in the list unqLabel, get the most common template\n",
    "    # For that template (nt x nchan), multiply the the transpose (nchan x nt) by inverse of \n",
    "    # the whitening matrix (nchan x nchan); get max and min along tthe time axis (1)\n",
    "    # to find the peak channel\n",
    "    for i in np.arange(0,nLabel):\n",
    "        curr_spkTemplate = spkTemplate[np.where(cluLabel==unqLabel[i])]\n",
    "        template_mode = np.argmax(np.bincount(curr_spkTemplate))\n",
    "        currT = templates[template_mode,:].T\n",
    "        curr_unwh = np.matmul(w_inv, currT)\n",
    "        currdiff = np.max(curr_unwh,1) - np.min(curr_unwh,1)\n",
    "        peak_channels[i] = channel_map[np.argmax(currdiff)]\n",
    "\n",
    "    clus_Table = np.zeros((maxLabel+1, 2), dtype='uint32')\n",
    "    clus_Table[unqLabel, 0] = labelCounts\n",
    "    clus_Table[unqLabel, 1] = peak_channels\n",
    "\n",
    "    if clu_version == 0:\n",
    "        np.save(os.path.join(output_dir, 'clus_Table.npy'), clus_Table)\n",
    "    else:\n",
    "        clu_Name = 'clus_Table_' + repr(clu_version) + '.npy'\n",
    "        np.save(os.path.join(output_dir, clu_Name), clus_Table)\n",
    " \n",
    "    return nTemplate, nTot"
   ]
  },
  {
   "cell_type": "code",
   "execution_count": 19,
   "metadata": {},
   "outputs": [
    {
     "name": "stdout",
     "output_type": "stream",
     "text": [
      "runit.bat -spikeglx_bin=D:\\NPX_data\\DATA\\08272024-NTBY4_g0\\08272024-NTBY4_g0\\08272024-NTBY4_g0_tcat.imec0.ap.bin     -clus_table_npy=D:\\NPX_data\\DATA\\08272024-NTBY4_g0\\08272024-NTBY4_g0\\kilosort_output\\clus_Table.npy     -clus_time_npy=D:\\NPX_data\\DATA\\08272024-NTBY4_g0\\08272024-NTBY4_g0\\kilosort_output\\spike_times.npy     -clus_lbl_npy=D:\\NPX_data\\DATA\\08272024-NTBY4_g0\\08272024-NTBY4_g0\\kilosort_output\\spike_clusters_NEW.npy     -dest=D:\\NPX_data\\DATA\\08272024-NTBY4_g0\\08272024-NTBY4_g0\\kilosort_output\\C_waves     -samples_per_spike=82     -pre_samples=30     -num_spikes=100     -snr_radius=8     -snr_radius_um=140\n",
      "0\n",
      "08272024-NTBY4_g0 done\n"
     ]
    }
   ],
   "source": [
    "# This runs Cwaves\n",
    "command = f'runit.bat -spikeglx_bin={binName} \\\n",
    "    -clus_table_npy={clusTableName} \\\n",
    "    -clus_time_npy={clusTimeName} \\\n",
    "    -clus_lbl_npy={clusLblName_new} \\\n",
    "    -dest={destinationCwaves} \\\n",
    "    -samples_per_spike=82 \\\n",
    "    -pre_samples=30 \\\n",
    "    -num_spikes=100 \\\n",
    "    -snr_radius=8 \\\n",
    "    -snr_radius_um=140'\n",
    "\n",
    "print(command)\n",
    "print(os.system(f\"cd /d {os.path.join(tools_path, 'C_Waves-win')} & {command}\"))\n",
    "print(f'{run_name} done')\n"
   ]
  }
 ],
 "metadata": {
  "kernelspec": {
   "display_name": "allensdk",
   "language": "python",
   "name": "allensdk"
  },
  "language_info": {
   "codemirror_mode": {
    "name": "ipython",
    "version": 3
   },
   "file_extension": ".py",
   "mimetype": "text/x-python",
   "name": "python",
   "nbconvert_exporter": "python",
   "pygments_lexer": "ipython3",
   "version": "3.9.18"
  }
 },
 "nbformat": 4,
 "nbformat_minor": 2
}
